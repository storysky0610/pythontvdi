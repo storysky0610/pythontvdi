{
 "cells": [
  {
   "cell_type": "code",
   "execution_count": 10,
   "metadata": {},
   "outputs": [],
   "source": [
    "import sqlite3\n",
    "conn = sqlite3.connect('api.db')\n",
    "with conn:\n",
    "    sql = '''\n",
    "        CREATE TABLE IF NOT EXISTS records (\n",
    "            id INTEGER NOT NULL PRIMARY KEY AUTOINCREMENT,\n",
    "            sitename TEXT NOT NULL,\n",
    "            county TEXT,\n",
    "            aqi INTEGER,\n",
    "            status TEXT,\n",
    "            pm25 NUMERIC,\n",
    "            date TEXT,\n",
    "            lat NUMERIC,\n",
    "            lon NUMERIC,\n",
    "            UNIQUE(sitename,date)\n",
    "        );\n",
    "    '''\n",
    "    cursor = conn.cursor()\n",
    "    cursor.execute(sql)\n"
   ]
  },
  {
   "cell_type": "code",
   "execution_count": 13,
   "metadata": {},
   "outputs": [
    {
     "ename": "",
     "evalue": "",
     "output_type": "error",
     "traceback": [
      "\u001b[1;31m在目前儲存格或上一個儲存格中執行程式碼時，Kernel 已損毀。\n",
      "\u001b[1;31m請檢閱儲存格中的程式碼，找出失敗的可能原因。\n",
      "\u001b[1;31m如需詳細資訊，請按一下<a href='https://aka.ms/vscodeJupyterKernelCrash'>這裡</a>。\n",
      "\u001b[1;31m如需詳細資料，請檢視 Jupyter <a href='command:jupyter.viewOutput'>記錄</a>。"
     ]
    }
   ],
   "source": [
    "insertSQL = '''\n",
    "INSERT INTO records(sitename,county,aqi,status,pm25,date,lat,lon) \n",
    "VALUES ('屏東(枋山)','屏東',17,'良好',6.2,'2024-10-28 9:00',22.260899,120.651472)\n",
    "'''\n",
    "conn =sqlite3.connect('api1.db')\n",
    "\n",
    "cursor = conn.cursor()\n",
    "\n",
    "cursor.execute(insertSQL)\n",
    "\n",
    "conn.commit()\n",
    "cursor.close()\n",
    "conn.close()"
   ]
  },
  {
   "cell_type": "code",
   "execution_count": 8,
   "metadata": {},
   "outputs": [
    {
     "name": "stdout",
     "output_type": "stream",
     "text": [
      "['新北(樹林)', '冬山', '新竹', '大園', '新營', '崙背', '橋頭', '小港', '美濃', '善化', '埔里', '彰化（員林）', '嘉義', '鳳山', '基隆', '馬公', '花蓮', '富貴角', '竹山', '三重', '中壢', '高雄（湖內）', '大寮', '朴子', '南投', '麥寮', '林口', '大里', '豐原', '頭份', '永和', '斗六', '楠梓', '前鎮', '苗栗', '屏東（琉球）', '左營', '三義', '屏東(枋山)', '中山', '恆春', '林園', '桃園', '仁武', '臺東', '復興', '板橋', '屏東', '宜蘭', '忠明', '竹東', '彰化', '汐止', '松山', '線西', '西屯', '湖口', '土城', '新莊', '龍潭', '關山', '新港', '馬祖', '士林', '二林', '萬里', '新店', '平鎮', '前金', '萬華', '安南', '古亭', '大同', '淡水', '大城', '陽明', '宜蘭（頭城）', '觀音', '潮州', '金門', '臺南', '臺西', '菜寮', '沙鹿', '臺南（麻豆）']\n"
     ]
    }
   ],
   "source": [
    "import requests\n",
    "url = 'https://data.moenv.gov.tw/api/v2/aqx_p_488?api_key=e8dd42e6-9b8b-43f8-991e-b3dee723a52d&limit=1000&sort=datacreationdate%20desc&format=JSON'\n",
    "try:\n",
    "    response = requests.get(url)\n",
    "    response.raise_for_status()\n",
    "    data = response.json()\n",
    "except Exception as e:\n",
    "    print(e)\n",
    "else:\n",
    "    sitenames = set()\n",
    "    for item in data['records']:\n",
    "        sitenames.add(item['sitename'])\n",
    "    sitenames = list(sitenames)\n",
    "    print(sitenames)\n",
    "\n"
   ]
  }
 ],
 "metadata": {
  "kernelspec": {
   "display_name": "Python 3",
   "language": "python",
   "name": "python3"
  },
  "language_info": {
   "codemirror_mode": {
    "name": "ipython",
    "version": 3
   },
   "file_extension": ".py",
   "mimetype": "text/x-python",
   "name": "python",
   "nbconvert_exporter": "python",
   "pygments_lexer": "ipython3",
   "version": "3.12.6"
  }
 },
 "nbformat": 4,
 "nbformat_minor": 2
}
