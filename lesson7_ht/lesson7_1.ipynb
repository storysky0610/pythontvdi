{
 "cells": [
  {
   "cell_type": "code",
   "execution_count": 5,
   "metadata": {},
   "outputs": [
    {
     "data": {
      "text/plain": [
       "[['2024-11-04 22:00', '屏東縣', '49', '10', '良好', '22.260899', '120.651472'],\n",
       " ['2024-11-04 22:00', '屏東縣', '49', '10', '良好', '22.260899', '120.651472'],\n",
       " ['2024-11-04 21:00', '屏東縣', '54', '12', '普通', '22.260899', '120.651472'],\n",
       " ['2024-11-04 21:00', '屏東縣', '54', '12', '普通', '22.260899', '120.651472'],\n",
       " ['2024-11-04 20:00', '屏東縣', '64', '20', '普通', '22.260899', '120.651472'],\n",
       " ['2024-11-04 20:00', '屏東縣', '64', '20', '普通', '22.260899', '120.651472'],\n",
       " ['2024-11-04 19:00', '屏東縣', '74', '17', '普通', '22.260899', '120.651472'],\n",
       " ['2024-11-04 19:00', '屏東縣', '74', '17', '普通', '22.260899', '120.651472'],\n",
       " ['2024-11-04 18:00', '屏東縣', '77', '13', '普通', '22.260899', '120.651472'],\n",
       " ['2024-11-04 18:00', '屏東縣', '77', '13', '普通', '22.260899', '120.651472'],\n",
       " ['2024-11-04 17:00', '屏東縣', '74', '15', '普通', '22.260899', '120.651472'],\n",
       " ['2024-11-04 17:00', '屏東縣', '74', '15', '普通', '22.260899', '120.651472']]"
      ]
     },
     "execution_count": 5,
     "metadata": {},
     "output_type": "execute_result"
    }
   ],
   "source": [
    "import datasource\n",
    "datasource.get_selected_data(sitename='屏東(枋山)')"
   ]
  },
  {
   "cell_type": "code",
   "execution_count": 8,
   "metadata": {},
   "outputs": [],
   "source": [
    "import sqlite3\n",
    "conn =sqlite3.connect('api.db')\n",
    "with conn:\n",
    "    sql='''INSERT OR IGNORE INTO records (sitename,county,aqi,status,pm25,date,lat,lon)\n",
    "    VALUES ('屏東(枋山)', '屏東縣', 49, '良好', 10,'2024-11-04 22:00', '22.260899', '120.651472')\n",
    "    '''\n",
    "    cursor = conn.cursor()\n",
    "    cursor.execute(sql)"
   ]
  },
  {
   "cell_type": "code",
   "execution_count": 20,
   "metadata": {},
   "outputs": [
    {
     "ename": "OperationalError",
     "evalue": "database is locked",
     "output_type": "error",
     "traceback": [
      "\u001b[1;31m---------------------------------------------------------------------------\u001b[0m",
      "\u001b[1;31mOperationalError\u001b[0m                          Traceback (most recent call last)",
      "Cell \u001b[1;32mIn[20], line 23\u001b[0m\n\u001b[0;32m     19\u001b[0m lat \u001b[38;5;241m=\u001b[39m \u001b[38;5;28mfloat\u001b[39m(items[\u001b[38;5;124m'\u001b[39m\u001b[38;5;124mlatitude\u001b[39m\u001b[38;5;124m'\u001b[39m])\u001b[38;5;28;01mif\u001b[39;00m items[\u001b[38;5;124m'\u001b[39m\u001b[38;5;124mlatitude\u001b[39m\u001b[38;5;124m'\u001b[39m] \u001b[38;5;241m!=\u001b[39m\u001b[38;5;124m'\u001b[39m\u001b[38;5;124m'\u001b[39m \u001b[38;5;28;01melse\u001b[39;00m \u001b[38;5;241m0.0\u001b[39m\n\u001b[0;32m     20\u001b[0m sql\u001b[38;5;241m=\u001b[39m\u001b[38;5;124m'''\u001b[39m\u001b[38;5;124mINSERT OR IGNORE INTO records (sitename,county,aqi,status,pm25,date,lat,lon)\u001b[39m\n\u001b[0;32m     21\u001b[0m \u001b[38;5;124mVALUES (?,?,?,?,?,?,?,?);\u001b[39m\n\u001b[0;32m     22\u001b[0m \u001b[38;5;124m\u001b[39m\u001b[38;5;124m'''\u001b[39m\n\u001b[1;32m---> 23\u001b[0m \u001b[43mcursor\u001b[49m\u001b[38;5;241;43m.\u001b[39;49m\u001b[43mexecute\u001b[49m\u001b[43m(\u001b[49m\u001b[43msql\u001b[49m\u001b[43m,\u001b[49m\u001b[43m(\u001b[49m\u001b[43msitename\u001b[49m\u001b[43m,\u001b[49m\u001b[43mcounty\u001b[49m\u001b[43m,\u001b[49m\u001b[43maqi\u001b[49m\u001b[43m,\u001b[49m\u001b[43mstatus\u001b[49m\u001b[43m,\u001b[49m\u001b[43mpm25\u001b[49m\u001b[43m,\u001b[49m\u001b[43mdate\u001b[49m\u001b[43m,\u001b[49m\u001b[43mlon\u001b[49m\u001b[43m,\u001b[49m\u001b[43mlat\u001b[49m\u001b[43m)\u001b[49m\u001b[43m)\u001b[49m\n",
      "\u001b[1;31mOperationalError\u001b[0m: database is locked"
     ]
    }
   ],
   "source": [
    "import requests\n",
    "url = 'https://data.moenv.gov.tw/api/v2/aqx_p_488?api_key=e8dd42e6-9b8b-43f8-991e-b3dee723a52d&limit=1000&sort=datacreationdate%20desc&format=JSON'\n",
    "try:\n",
    "    response = requests.get(url)\n",
    "    response.raise_for_status()\n",
    "    data = response.json()\n",
    "except Exception as e:\n",
    "    print(e)\n",
    "else:\n",
    "    sitenames = set()\n",
    "    for items in data['records']:\n",
    "        sitename=items['sitename']\n",
    "        county = items['county']\n",
    "        aqi = int(items['aqi']) if items['aqi'] !='' else 0\n",
    "        status = items['status']\n",
    "        pm25 = float(items['pm2.5'])if items['pm2.5'] !='' else 0\n",
    "        date = items['datacreationdate']\n",
    "        lon = float(items['longitude'])if items['longitude'] !='' else 0.0\n",
    "        lat = float(items['latitude'])if items['latitude'] !='' else 0.0\n",
    "        sql='''INSERT OR IGNORE INTO records (sitename,county,aqi,status,pm25,date,lat,lon)\n",
    "        VALUES (?,?,?,?,?,?,?,?);\n",
    "        '''\n",
    "        cursor.execute(sql,(sitename,county,aqi,status,pm25,date,lon,lat))"
   ]
  },
  {
   "cell_type": "code",
   "execution_count": 2,
   "metadata": {},
   "outputs": [
    {
     "name": "stdout",
     "output_type": "stream",
     "text": [
      "name 'requests' is not defined\n"
     ]
    }
   ],
   "source": [
    "import sqlite3\n",
    "conn = sqlite3.connect(\"api.db\")\n",
    "url = 'https://data.moenv.gov.tw/api/v2/aqx_p_488?api_key=e8dd42e6-9b8b-43f8-991e-b3dee723a52d&limit=1000&sort=datacreationdate%20desc&format=JSON'\n",
    "try:\n",
    "    response = requests.get(url)\n",
    "    response.raise_for_status()\n",
    "    data = response.json()\n",
    "except Exception as e:\n",
    "    print(e)\n",
    "else:\n",
    "    sitenames = set()\n",
    "    with conn:\n",
    "        cursor = conn.cursor()\n",
    "        for items in data['records']:\n",
    "            sitename = items['sitename']\n",
    "            county = items['county']\n",
    "            aqi = int(items['aqi']) if items['aqi'] != '' else 0\n",
    "            status = items['status']\n",
    "            pm25 = float(items['pm2.5']) if items['pm2.5'] != '' else 0.0\n",
    "            date = items['datacreationdate']\n",
    "            lon = float(items['longitude']) if items['longitude'] != '' else 0.0\n",
    "            lat = float(items['latitude']) if items['latitude'] != '' else 0.0\n",
    "            sql = '''INSERT OR IGNORE INTO records(sitename,county,aqi,status,pm25,date,lat,lon)\n",
    "                    values (?,?, ?, ?,?,?,?,?);\n",
    "            '''\n",
    "            cursor.execute(sql,(sitename, county, aqi, status,pm25,date,lat,lon))\n",
    "\n",
    "        \n",
    "        \n",
    "\n",
    "    "
   ]
  }
 ],
 "metadata": {
  "kernelspec": {
   "display_name": "Python 3",
   "language": "python",
   "name": "python3"
  },
  "language_info": {
   "codemirror_mode": {
    "name": "ipython",
    "version": 3
   },
   "file_extension": ".py",
   "mimetype": "text/x-python",
   "name": "python",
   "nbconvert_exporter": "python",
   "pygments_lexer": "ipython3",
   "version": "3.12.6"
  }
 },
 "nbformat": 4,
 "nbformat_minor": 2
}
