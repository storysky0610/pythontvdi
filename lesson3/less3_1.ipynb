{
 "cells": [
  {
   "cell_type": "code",
   "execution_count": 119,
   "metadata": {},
   "outputs": [],
   "source": [
    "class Person(object):#class工廠化\n",
    "    #自動地的initial \n",
    "    def __init__(self,name:str,age:int):#型別提示\n",
    "        self.__name = name#private attribute\n",
    "        self.__age = age#private atteibutie\n",
    "    def __repr__(self)->str:#自訂規則\n",
    "        return f'我的名子:{self.name}\\n我的age是{self.age}'\n",
    "    @property #註冊一個founction 無法修改\n",
    "    def name(self)->str:#->str 傳出值 為 文字\n",
    "        return self.__name\n",
    "\n",
    "\n",
    "    @name.setter#setter語法\n",
    "    def name(self,n):#re\n",
    "        print(f\"不可以改名為{n}\")\n",
    "\n",
    "    @property\n",
    "    def age(self)->int: #getter 索取\n",
    "        return self.__age\n",
    "    @age.setter#設置  可修改範圍\n",
    "    def age(self,value):\n",
    "        if value > 100 or value < 0:\n",
    "            print(\"不合法的值\")\n",
    "        else:\n",
    "            self.__age = value"
   ]
  },
  {
   "cell_type": "code",
   "execution_count": 120,
   "metadata": {},
   "outputs": [
    {
     "name": "stdout",
     "output_type": "stream",
     "text": [
      "我的名子:robert\n",
      "我的age是18\n",
      "不可以改名為ABC\n",
      "===============================\n",
      "我的名子:糖果徐\n",
      "我的age是38\n"
     ]
    }
   ],
   "source": [
    "#初始化.initial\n",
    "p1 = Person(name='robert',age='18')\n",
    "print(p1)\n",
    "p1.name = 'ABC'\n",
    "print('===============================')\n",
    "p2 = Person(name='糖果徐',age='38')\n",
    "print(p2)"
   ]
  },
  {
   "cell_type": "code",
   "execution_count": 121,
   "metadata": {},
   "outputs": [
    {
     "name": "stdout",
     "output_type": "stream",
     "text": [
      "Help on class Person in module __main__:\n",
      "\n",
      "class Person(builtins.object)\n",
      " |  Person(name: str, age: int)\n",
      " |  \n",
      " |  Methods defined here:\n",
      " |  \n",
      " |  __init__(self, name: str, age: int)\n",
      " |      Initialize self.  See help(type(self)) for accurate signature.\n",
      " |  \n",
      " |  __repr__(self) -> str\n",
      " |      Return repr(self).\n",
      " |  \n",
      " |  ----------------------------------------------------------------------\n",
      " |  Data descriptors defined here:\n",
      " |  \n",
      " |  __dict__\n",
      " |      dictionary for instance variables\n",
      " |  \n",
      " |  __weakref__\n",
      " |      list of weak references to the object\n",
      " |  \n",
      " |  age\n",
      " |  \n",
      " |  name\n",
      "\n"
     ]
    }
   ],
   "source": [
    "help(Person)"
   ]
  },
  {
   "cell_type": "code",
   "execution_count": 122,
   "metadata": {},
   "outputs": [
    {
     "name": "stdout",
     "output_type": "stream",
     "text": [
      "不可以改名為abc\n",
      "我的名子:robert\n",
      "我的age是18\n",
      "===============================\n",
      "我的名子:糖果徐\n",
      "我的age是38\n"
     ]
    }
   ],
   "source": [
    "#初始化.initial\n",
    "p1 = Person(name='robert',age='18')\n",
    "p1.name = 'abc'\n",
    "print(p1)\n",
    "print('===============================')\n",
    "p2 = Person(name='糖果徐',age='38')\n",
    "print(p2)"
   ]
  },
  {
   "cell_type": "code",
   "execution_count": 123,
   "metadata": {},
   "outputs": [
    {
     "name": "stdout",
     "output_type": "stream",
     "text": [
      "我的名子:robert\n",
      "我的age是18\n",
      "不可以改名為ABC\n",
      "我的名子:robert\n",
      "我的age是20\n",
      "===============================\n",
      "我的名子:糖果徐\n",
      "我的age是38\n"
     ]
    }
   ],
   "source": [
    "#初始化.initial\n",
    "p1 = Person(name='robert',age='18')\n",
    "print(p1)\n",
    "p1.name = 'ABC'\n",
    "p1.age = 20\n",
    "print(p1)\n",
    "print('===============================')\n",
    "p2 = Person(name='糖果徐',age='38')\n",
    "print(p2)"
   ]
  },
  {
   "cell_type": "code",
   "execution_count": 130,
   "metadata": {},
   "outputs": [],
   "source": [
    "class Student(Person):#繼承\n",
    "    @classmethod#註冊\n",
    "    def echo(cls):\n",
    "        print(\"Hello,我是studentclass\")\n",
    "    def __init__(self,age:int,name:str,chinese:int=0,english:int=0,math:int=0):#建立\n",
    "        super().__init__(name=name,age=age)\n",
    "        self.chinese = chinese\n",
    "        self.enlish = english\n",
    "        self.math = math\n",
    "\n",
    "    @property#屬性\n",
    "    def total(self)->int:#建立總分\n",
    "        return self.chinese + self.enlish + self.math\n",
    "    \n",
    "    #intall method 實體方法\n",
    "    def average(self)->float:\n",
    "        return round(self.total/3,ndigits=2)"
   ]
  },
  {
   "cell_type": "code",
   "execution_count": 131,
   "metadata": {},
   "outputs": [
    {
     "name": "stdout",
     "output_type": "stream",
     "text": [
      "我的名子:蘋果\n",
      "我的age是18\n",
      "78\n",
      "87\n",
      "88\n",
      "253\n",
      "84.33\n",
      "Hello,我是studentclass\n"
     ]
    }
   ],
   "source": [
    "stu1 = Student(name=\"蘋果\",age=18,chinese=78,english=87,math=88)\n",
    "type(stu1)\n",
    "print(stu1)\n",
    "print(stu1.chinese) #attribute\n",
    "print(stu1.enlish)  #attribute\n",
    "print(stu1.math) #attribute\n",
    "print(stu1.total) #proprty\n",
    "print(stu1.average()) #intall method()\n",
    "Student.echo()  #intall method()"
   ]
  },
  {
   "cell_type": "markdown",
   "metadata": {},
   "source": [
    "## 內建的module,package\n",
    "# 常數 , function , class"
   ]
  }
 ],
 "metadata": {
  "kernelspec": {
   "display_name": "tvdi",
   "language": "python",
   "name": "python3"
  },
  "language_info": {
   "codemirror_mode": {
    "name": "ipython",
    "version": 3
   },
   "file_extension": ".py",
   "mimetype": "text/x-python",
   "name": "python",
   "nbconvert_exporter": "python",
   "pygments_lexer": "ipython3",
   "version": "3.11.10"
  }
 },
 "nbformat": 4,
 "nbformat_minor": 2
}
