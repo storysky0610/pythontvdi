{
 "cells": [
  {
   "cell_type": "code",
   "execution_count": 38,
   "metadata": {},
   "outputs": [],
   "source": [
    "class Person(object):#class工廠化\n",
    "    #自動地的initial \n",
    "    def __init__(self,n:str,a:int,c):#型別提示\n",
    "        self.name = n\n",
    "        self.age = a\n",
    "        self.city = c"
   ]
  },
  {
   "cell_type": "code",
   "execution_count": 40,
   "metadata": {},
   "outputs": [
    {
     "name": "stdout",
     "output_type": "stream",
     "text": [
      "robert\n",
      "18\n",
      "<__main__.Person object at 0x000001D448623750>\n",
      "糖果徐\n",
      "38\n",
      "<__main__.Person object at 0x000001D4485ECF90>\n"
     ]
    }
   ],
   "source": [
    "#初始化.initial\n",
    "p1 = Person(n='robert',a='18',c='New York')\n",
    "print(p1.name)\n",
    "print(p1.age)\n",
    "print(p1)\n",
    "p2 = Person(n='糖果徐',a='38',c='tw')\n",
    "print(p2.name)\n",
    "print(p2.age)\n",
    "print(p2)"
   ]
  }
 ],
 "metadata": {
  "kernelspec": {
   "display_name": "tvdi",
   "language": "python",
   "name": "python3"
  },
  "language_info": {
   "codemirror_mode": {
    "name": "ipython",
    "version": 3
   },
   "file_extension": ".py",
   "mimetype": "text/x-python",
   "name": "python",
   "nbconvert_exporter": "python",
   "pygments_lexer": "ipython3",
   "version": "3.11.10"
  }
 },
 "nbformat": 4,
 "nbformat_minor": 2
}
