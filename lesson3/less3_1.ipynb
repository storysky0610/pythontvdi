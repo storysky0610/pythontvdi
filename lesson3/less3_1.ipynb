{
 "cells": [
  {
   "cell_type": "code",
   "execution_count": 79,
   "metadata": {},
   "outputs": [],
   "source": [
    "class Person(object):#class工廠化\n",
    "    #自動地的initial \n",
    "    def __init__(self,name:str,age:int):#型別提示\n",
    "        self.__name = name#private attribute\n",
    "        self.__age = age#private atteibutie\n",
    "    def __repr__(self)->str:#自訂規則\n",
    "        return f'我的名子:{self.name}\\n我的age是{self.age}'\n",
    "    @property #註冊一個founction 無法修改\n",
    "    def name(self)->str:#->str 傳出值 為 文字\n",
    "        return self.__name\n",
    "\n",
    "\n",
    "    @name.setter#setter語法\n",
    "    def name(self,n):#re\n",
    "        print(f\"不可以改名為{n}\")\n",
    "\n",
    "    @property\n",
    "    def age(self)->int: #getter 索取\n",
    "        return self.__age\n",
    "    @age.setter#設置  可修改範圍\n",
    "    def age(self,value):\n",
    "        if value > 100 or value < 0:\n",
    "            print(\"不合法的值\")\n",
    "        else:\n",
    "            self.__age = value"
   ]
  },
  {
   "cell_type": "code",
   "execution_count": 80,
   "metadata": {},
   "outputs": [
    {
     "name": "stdout",
     "output_type": "stream",
     "text": [
      "我的名子:robert\n",
      "我的age是18\n",
      "不可以改名為ABC\n",
      "===============================\n",
      "我的名子:糖果徐\n",
      "我的age是38\n"
     ]
    }
   ],
   "source": [
    "#初始化.initial\n",
    "p1 = Person(name='robert',age='18')\n",
    "print(p1)\n",
    "p1.name = 'ABC'\n",
    "print('===============================')\n",
    "p2 = Person(name='糖果徐',age='38')\n",
    "print(p2)"
   ]
  },
  {
   "cell_type": "code",
   "execution_count": 81,
   "metadata": {},
   "outputs": [
    {
     "name": "stdout",
     "output_type": "stream",
     "text": [
      "Help on class Person in module __main__:\n",
      "\n",
      "class Person(builtins.object)\n",
      " |  Person(name: str, age: int)\n",
      " |  \n",
      " |  Methods defined here:\n",
      " |  \n",
      " |  __init__(self, name: str, age: int)\n",
      " |      Initialize self.  See help(type(self)) for accurate signature.\n",
      " |  \n",
      " |  __repr__(self) -> str\n",
      " |      Return repr(self).\n",
      " |  \n",
      " |  ----------------------------------------------------------------------\n",
      " |  Data descriptors defined here:\n",
      " |  \n",
      " |  __dict__\n",
      " |      dictionary for instance variables\n",
      " |  \n",
      " |  __weakref__\n",
      " |      list of weak references to the object\n",
      " |  \n",
      " |  age\n",
      " |  \n",
      " |  name\n",
      "\n"
     ]
    }
   ],
   "source": [
    "help(Person)"
   ]
  },
  {
   "cell_type": "code",
   "execution_count": 82,
   "metadata": {},
   "outputs": [
    {
     "name": "stdout",
     "output_type": "stream",
     "text": [
      "不可以改名為abc\n",
      "我的名子:robert\n",
      "我的age是18\n",
      "===============================\n",
      "我的名子:糖果徐\n",
      "我的age是38\n"
     ]
    }
   ],
   "source": [
    "#初始化.initial\n",
    "p1 = Person(name='robert',age='18')\n",
    "p1.name = 'abc'\n",
    "print(p1)\n",
    "print('===============================')\n",
    "p2 = Person(name='糖果徐',age='38')\n",
    "print(p2)"
   ]
  },
  {
   "cell_type": "code",
   "execution_count": 83,
   "metadata": {},
   "outputs": [
    {
     "name": "stdout",
     "output_type": "stream",
     "text": [
      "我的名子:robert\n",
      "我的age是18\n",
      "不可以改名為ABC\n",
      "我的名子:robert\n",
      "我的age是20\n",
      "===============================\n",
      "我的名子:糖果徐\n",
      "我的age是38\n"
     ]
    }
   ],
   "source": [
    "#初始化.initial\n",
    "p1 = Person(name='robert',age='18')\n",
    "print(p1)\n",
    "p1.name = 'ABC'\n",
    "p1.age = 20\n",
    "print(p1)\n",
    "print('===============================')\n",
    "p2 = Person(name='糖果徐',age='38')\n",
    "print(p2)"
   ]
  },
  {
   "cell_type": "code",
   "execution_count": 84,
   "metadata": {},
   "outputs": [],
   "source": [
    "class Student(Person):\n",
    "    def __init__(self,age:int,name:str):\n",
    "        super().__init__(name=name,age=age)"
   ]
  },
  {
   "cell_type": "code",
   "execution_count": 85,
   "metadata": {},
   "outputs": [
    {
     "name": "stdout",
     "output_type": "stream",
     "text": [
      "我的名子:蘋果\n",
      "我的age是18\n"
     ]
    }
   ],
   "source": [
    "stu1 = Student(name=\"蘋果\",age=\"18\")\n",
    "type(stu1)\n",
    "print(stu1)"
   ]
  }
 ],
 "metadata": {
  "kernelspec": {
   "display_name": "tvdi",
   "language": "python",
   "name": "python3"
  },
  "language_info": {
   "codemirror_mode": {
    "name": "ipython",
    "version": 3
   },
   "file_extension": ".py",
   "mimetype": "text/x-python",
   "name": "python",
   "nbconvert_exporter": "python",
   "pygments_lexer": "ipython3",
   "version": "3.11.10"
  }
 },
 "nbformat": 4,
 "nbformat_minor": 2
}
