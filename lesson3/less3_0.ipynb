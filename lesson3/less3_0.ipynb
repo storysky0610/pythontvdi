{
 "cells": [
  {
   "cell_type": "code",
   "execution_count": 16,
   "metadata": {},
   "outputs": [
    {
     "name": "stdout",
     "output_type": "stream",
     "text": [
      "[{'name': 'John', 'age': '23', 'city': 'New York'}, {'name': 'Jane', 'age': '29', 'city': 'Los Angeles'}, {'name': 'Doe', 'age': '25', 'city': 'Chicago'}, {'name': 'Anna', 'age': '22', 'city': 'Houston'}]\n",
      "{'name': 'John', 'age': '23', 'city': 'New York'}\n",
      "{'name': 'Jane', 'age': '29', 'city': 'Los Angeles'}\n",
      "{'name': 'Doe', 'age': '25', 'city': 'Chicago'}\n",
      "{'name': 'Anna', 'age': '22', 'city': 'Houston'}\n",
      "{'name': 'Jane', 'age': '29', 'city': 'Los Angeles'}\n"
     ]
    }
   ],
   "source": [
    "import csv\n",
    "with open('student.csv',encoding=\"utf-8\",newline='') as file:\n",
    "    reader_dict = list(csv.DictReader(file))\n",
    "    print(reader_dict)\n",
    "    for item in reader_dict:\n",
    "            print(item)\n",
    "    new_list = []\n",
    "    for item in reader_dict:\n",
    "        if int(item['age']) > 25:\n",
    "            print(item)\n",
    "            new_list.append(item)\n"
   ]
  },
  {
   "cell_type": "code",
   "execution_count": 22,
   "metadata": {},
   "outputs": [],
   "source": [
    "with open('filtered.csv',mode='w',encoding='utf-8',newline='') as f:\n",
    "    filename = ['name','age','city']\n",
    "    dict_wter = csv.DictWriter(f,fieldnames=filename)\n",
    "    dict_wter.writeheader()#寫入抬頭\n",
    "    for item in new_list:\n",
    "        dict_wter.writerow(item)#寫入內容\n",
    "    "
   ]
  },
  {
   "cell_type": "code",
   "execution_count": null,
   "metadata": {},
   "outputs": [],
   "source": [
    "# with open('filtered.csv',mode='w',encoding='utf-8',newline='') as f:\n",
    "#     fieldnames = ['name', 'age','city']\n",
    "#     dict_writer = csv.DictWriter(f,fieldnames=fieldnames)\n",
    "#     dict_writer.writeheader()\n",
    "#     for item in new_list:\n",
    "#         dict_writer.writerow(item)"
   ]
  }
 ],
 "metadata": {
  "kernelspec": {
   "display_name": "tvdi",
   "language": "python",
   "name": "python3"
  },
  "language_info": {
   "codemirror_mode": {
    "name": "ipython",
    "version": 3
   },
   "file_extension": ".py",
   "mimetype": "text/x-python",
   "name": "python",
   "nbconvert_exporter": "python",
   "pygments_lexer": "ipython3",
   "version": "3.11.10"
  }
 },
 "nbformat": 4,
 "nbformat_minor": 2
}
