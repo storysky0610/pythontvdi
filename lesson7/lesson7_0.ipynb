{
 "cells": [
  {
   "cell_type": "code",
   "execution_count": 1,
   "metadata": {},
   "outputs": [],
   "source": [
    "import sqlite3\n",
    "conn =sqlite3.connect('api.db')"
   ]
  },
  {
   "cell_type": "code",
   "execution_count": null,
   "metadata": {},
   "outputs": [],
   "source": [
    "import sqlite3\n",
    "import requests\n",
    "\n",
    "conn = sqlite3.connect(\"AQI.db\")\n",
    "cursor = conn.cursor()\n",
    "create_table_sql = '''\n",
    "CREATE TABLE IF NOT EXISTS records (\n",
    "    id INTEGER NOT NULL PRIMARY KEY AUTOINCREMENT,\n",
    "    sitename TEXT NOT NULL,\n",
    "    county TEXT,\n",
    "    aqi INTEGER,\n",
    "    status TEXT,\n",
    "    pm25 NUMERIC,\n",
    "    date TEXT,\n",
    "    lat NUMERIC,\n",
    "    lon NUMERIC,\n",
    "    UNIQUE(sitename, date) \n",
    ");\n",
    "'''\n",
    "cursor.execute(create_table_sql)\n",
    "url = 'https://data.moenv.gov.tw/api/v2/aqx_p_488?api_key=e8dd42e6-9b8b-43f8-991e-b3dee723a52d&limit=1000&sort=ImportDate%20desc&format=JSON'\n",
    "response = requests.get(url)\n",
    "data = response.json()\n",
    "sitenames = []\n",
    "\n",
    "for items in data['records']:\n",
    "    sitenames.append((\n",
    "        items['sitename'],\n",
    "        items['county'],\n",
    "        items['aqi'],\n",
    "        items['status'],                      \n",
    "        items['pm2.5'],\n",
    "        items['datacreationdate'],            \n",
    "        items['latitude'],\n",
    "        items['longitude']\n",
    "    ))\n",
    "\n",
    "insertSQL = '''\n",
    "INSERT INTO records (sitename, county, aqi, status, pm25, date, lat, lon)\n",
    "VALUES (?, ?, ?, ?, ?, ?, ?, ?)\n",
    "'''\n",
    "cursor.executemany(insertSQL, sitenames)\n",
    "\n",
    "conn.commit()\n",
    "cursor.close()\n",
    "conn.close()"
   ]
  }
 ],
 "metadata": {
  "kernelspec": {
   "display_name": "tvdi",
   "language": "python",
   "name": "python3"
  },
  "language_info": {
   "codemirror_mode": {
    "name": "ipython",
    "version": 3
   },
   "file_extension": ".py",
   "mimetype": "text/x-python",
   "name": "python",
   "nbconvert_exporter": "python",
   "pygments_lexer": "ipython3",
   "version": "3.11.10"
  }
 },
 "nbformat": 4,
 "nbformat_minor": 2
}
