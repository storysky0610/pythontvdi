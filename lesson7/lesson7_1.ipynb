{
 "cells": [
  {
   "cell_type": "code",
   "execution_count": 1,
   "metadata": {},
   "outputs": [],
   "source": [
    "import sqlite3\n",
    "conn = sqlite3.connect(\"AQI.db\")\n",
    "with conn:\n",
    "    sql = '''\n",
    "    CREATE TABLE IF NOT EXISTS records (\n",
    "        id INTEGER NOT NULL PRIMARY KEY AUTOINCREMENT,\n",
    "        sitename TEXT NOT NULL,\n",
    "        county TEXT,\n",
    "        aqi INTEGER,\n",
    "        status TEXT,\n",
    "        pm25 NUMERIC,\n",
    "        date TEXT,\n",
    "        lat NUMERIC,\n",
    "        lon NUMERIC,\n",
    "        UNIQUE(sitename,date)\n",
    "    );\n",
    "    '''\n",
    "    cursor = conn.cursor()\n",
    "    cursor.execute(sql)"
   ]
  },
  {
   "cell_type": "code",
   "execution_count": 2,
   "metadata": {},
   "outputs": [
    {
     "name": "stdout",
     "output_type": "stream",
     "text": [
      "['淡水', '新北(樹林)', '臺南（麻豆）', '竹山', '仁武', '關山', '新莊', '彰化（員林）', '宜蘭（頭城）', '復興', '龍潭', '大園', '埔里', '沙鹿', '楠梓', '線西', '竹東', '士林', '屏東', '屏東(枋山)', '基隆', '潮州', '萬里', '崙背', '板橋', '林口', '前金', '南投', '土城', '西屯', '三重', '美濃', '中山', '陽明', '大寮', '三義', '宜蘭', '馬祖', '二林', '臺東', '屏東（琉球）', '小港', '永和', '平鎮', '觀音', '馬公', '菜寮', '富貴角', '桃園', '臺西', '前鎮', '林園', '花蓮', '大同', '新港', '大城', '恆春', '安南', '斗六', '金門', '古亭', '萬華', '臺南', '冬山', '善化', '鳳山', '松山', '嘉義', '大里', '橋頭', '中壢', '頭份', '麥寮', '新竹', '豐原', '忠明', '彰化', '苗栗', '高雄（湖內）', '左營', '汐止', '新營', '朴子', '湖口', '新店']\n"
     ]
    }
   ],
   "source": [
    "import requests\n",
    "\n",
    "url = 'https://data.moenv.gov.tw/api/v2/aqx_p_488?api_key=e8dd42e6-9b8b-43f8-991e-b3dee723a52d&limit=1000&sort=datacreationdate%20desc&format=JSON'\n",
    "try:\n",
    "    response = requests.get(url)\n",
    "    response.raise_for_status()\n",
    "    data = response.json()\n",
    "except Exception as e:\n",
    "    print(e)\n",
    "else:\n",
    "    sitenames = set()\n",
    "    for items in data['records']:\n",
    "        sitenames.add(items['sitename'])\n",
    "\n",
    "    sitenames = list(sitenames)\n",
    "print(sitenames)"
   ]
  },
  {
   "cell_type": "code",
   "execution_count": 3,
   "metadata": {},
   "outputs": [],
   "source": [
    "import sqlite3\n",
    "conn = sqlite3.connect(\"AQI.db\")\n",
    "with conn:\n",
    "    sql = '''INSERT OR IGNORE INTO records(sitename,county,aqi,status,pm25,date,lat,lon)\n",
    "    values ('屏東(枋山)','屏東縣', 34, '良好',18,'2024-11-04 10:00', 22.260899, 120.651472);\n",
    "    '''\n",
    "    cursor = conn.cursor()\n",
    "    cursor.execute(sql)"
   ]
  },
  {
   "cell_type": "code",
   "execution_count": 4,
   "metadata": {},
   "outputs": [],
   "source": [
    "import sqlite3\n",
    "conn = sqlite3.connect(\"AQI.db\")\n",
    "url = 'https://data.moenv.gov.tw/api/v2/aqx_p_488?api_key=e8dd42e6-9b8b-43f8-991e-b3dee723a52d&limit=1000&sort=datacreationdate%20desc&format=JSON'\n",
    "try:\n",
    "    response = requests.get(url)\n",
    "    response.raise_for_status()\n",
    "    data = response.json()\n",
    "except Exception as e:\n",
    "    print(e)\n",
    "else:\n",
    "    sitenames = set()\n",
    "    with conn:\n",
    "        cursor = conn.cursor()\n",
    "        for items in data['records']:\n",
    "            sitename = items['sitename']\n",
    "            county = items['county']\n",
    "            aqi = int(items['aqi']) if items['aqi'] != '' else 0\n",
    "            status = items['status']\n",
    "            pm25 = float(items['pm2.5']) if items['pm2.5'] != '' else 0.0\n",
    "            date = items['datacreationdate']\n",
    "            lon = float(items['longitude']) if items['longitude'] != '' else 0.0\n",
    "            lat = float(items['latitude']) if items['latitude'] != '' else 0.0\n",
    "            sql = '''INSERT OR IGNORE INTO records(sitename,county,aqi,status,pm25,date,lat,lon)\n",
    "                    values (?,?, ?, ?,?,?,?,?);\n",
    "            '''\n",
    "            cursor.execute(sql,(sitename, county, aqi, status,pm25,date,lat,lon))\n"
   ]
  },
  {
   "cell_type": "code",
   "execution_count": 6,
   "metadata": {},
   "outputs": [
    {
     "name": "stdout",
     "output_type": "stream",
     "text": [
      "['三義', '三重', '中壢', '中山', '二林', '仁武', '冬山', '前金', '前鎮', '南投', '古亭', '善化', '嘉義', '土城', '埔里', '基隆', '士林', '大同', '大園', '大城', '大寮', '大里', '安南', '宜蘭', '宜蘭（頭城）', '富貴角', '小港', '屏東', '屏東(枋山)', '屏東（琉球）', '崙背', '左營', '平鎮', '彰化', '彰化（員林）', '復興', '忠明', '恆春', '斗六', '新北(樹林)', '新店', '新港', '新營', '新竹', '新莊', '朴子', '松山', '板橋', '林口', '林園', '桃園', '楠梓', '橋頭', '永和', '汐止', '沙鹿', '淡水', '湖口', '潮州', '竹山', '竹東', '線西', '美濃', '臺南', '臺南（麻豆）', '臺東', '臺西', '花蓮', '苗栗', '菜寮', '萬華', '萬里', '西屯', '觀音', '豐原', '金門', '關山', '陽明', '頭份', '馬公', '馬祖', '高雄（湖內）', '鳳山', '麥寮', '龍潭']\n"
     ]
    }
   ],
   "source": [
    "conn = sqlite3.connect(\"AQI.db\")\n",
    "with conn:\n",
    "    cursor = conn.cursor()\n",
    "    sql = '''\n",
    "    SELECT DISTINCT sitename\n",
    "    FROM records\n",
    "    '''\n",
    "    cursor.execute(sql)\n",
    "    sitenames = []\n",
    "\n",
    "    for items in cursor.fetchall():\n",
    "        sitenames.append(items[0])\n",
    "    \n",
    "    print(sitenames)"
   ]
  },
  {
   "cell_type": "code",
   "execution_count": null,
   "metadata": {},
   "outputs": [],
   "source": [
    "conn = sqlite3.connect('AQI.db')\n",
    "with conn:\n",
    "    cursor = conn.cursor()\n",
    "    sql = '''\n",
    "    SELECT  date,county,aqi,pm2.5,status,lat,lon\n",
    "    form records\n",
    "    WHERE sitname = ?\n",
    "    ORDER  BY  date DESC;\n",
    "    '''\n",
    "    cursor.execute(sql,('富貴角'))\n",
    "    sitename_list = list"
   ]
  },
  {
   "cell_type": "markdown",
   "metadata": {},
   "source": []
  }
 ],
 "metadata": {
  "kernelspec": {
   "display_name": "tvdi",
   "language": "python",
   "name": "python3"
  },
  "language_info": {
   "codemirror_mode": {
    "name": "ipython",
    "version": 3
   },
   "file_extension": ".py",
   "mimetype": "text/x-python",
   "name": "python",
   "nbconvert_exporter": "python",
   "pygments_lexer": "ipython3",
   "version": "3.11.10"
  }
 },
 "nbformat": 4,
 "nbformat_minor": 2
}
