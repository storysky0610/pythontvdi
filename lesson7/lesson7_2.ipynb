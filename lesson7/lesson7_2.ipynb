{
 "cells": [
  {
   "cell_type": "code",
   "execution_count": null,
   "metadata": {},
   "outputs": [],
   "source": [
    "\n",
    "import sqlite3\n",
    "def get_county()->list[str]:\n",
    "    '''\n",
    "    docString\n",
    "    parameter:\n",
    "    return:\n",
    "        傳出所有的城市名稱\n",
    "    '''\n",
    "    conn = sqlite3.connect(\"AQI.db\")\n",
    "    with conn:\n",
    "        # Create a cursor object to execute SQL commands\n",
    "        cursor = conn.cursor()\n",
    "        # SQL query to select unique sitenames from records table\n",
    "        sql = '''\n",
    "        SELECT DISTINCT county\n",
    "        FROM records\n",
    "        '''\n",
    "        # Execute the SQL query\n",
    "        cursor.execute(sql)\n",
    "        # Get all results and extract first item from each row into a list\n",
    "        counties = [items[0] for items in cursor.fetchall()]\n",
    "    \n",
    "    # Return the list of unique sitenames\n",
    "    return counties\n",
    "get_county()"
   ]
  },
  {
   "cell_type": "code",
   "execution_count": null,
   "metadata": {},
   "outputs": [],
   "source": [
    "import sqlite3\n",
    "def get_conty()->list[str]:\n",
    "    conn = sqlite3.connect('AQI.db')\n",
    "    with conn:\n",
    "        cursor = conn.cursor()\n",
    "        sql = '''\n",
    "            SELECT  DISCONNECT county\n",
    "            FROM records\n",
    "            '''\n"
   ]
  }
 ],
 "metadata": {
  "kernelspec": {
   "display_name": "tvdi",
   "language": "python",
   "name": "python3"
  },
  "language_info": {
   "codemirror_mode": {
    "name": "ipython",
    "version": 3
   },
   "file_extension": ".py",
   "mimetype": "text/x-python",
   "name": "python",
   "nbconvert_exporter": "python",
   "pygments_lexer": "ipython3",
   "version": "3.11.10"
  }
 },
 "nbformat": 4,
 "nbformat_minor": 2
}
