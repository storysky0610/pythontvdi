{
 "cells": [
  {
   "cell_type": "code",
   "execution_count": 15,
   "metadata": {},
   "outputs": [
    {
     "name": "stdout",
     "output_type": "stream",
     "text": [
      "{'name': 'John', 'age': '23', 'city': 'New York'}\n",
      "{'name': 'Jane', 'age': '29', 'city': 'Los Angeles'}\n",
      "{'name': 'Doe', 'age': '25', 'city': 'Chicago'}\n",
      "{'name': 'Anna', 'age': '22', 'city': 'Houston'}\n",
      "\n",
      "[{'name': 'Jane', 'age': '29', 'city': 'Los Angeles'}]\n"
     ]
    }
   ],
   "source": [
    "import csv\n",
    "with open('student.csv',encoding=\"utf-8\") as file:\n",
    "    csvReader = csv.DictReader(file)\n",
    "    readlist =[]\n",
    "    readlist2 =[]\n",
    "    for row in csvReader:\n",
    "        readlist.append(dict(row))\n",
    "    for i in readlist:\n",
    "        print(i)\n",
    "print()\n",
    "for i in readlist:\n",
    "    if int(i['age'])>25:\n",
    "        readlist2.append(i)\n",
    "print(readlist2)\n",
    "        \n",
    "\n",
    "with open('filtered_data.csv',\"w\",encoding=\"utf-8\") as file:\n",
    "    www = csv.writer(file)\n",
    "    www.writerow(readlist2)\n",
    "    \n",
    "\n",
    "\n",
    "\n",
    "\n"
   ]
  }
 ],
 "metadata": {
  "kernelspec": {
   "display_name": "Python 3",
   "language": "python",
   "name": "python3"
  },
  "language_info": {
   "codemirror_mode": {
    "name": "ipython",
    "version": 3
   },
   "file_extension": ".py",
   "mimetype": "text/x-python",
   "name": "python",
   "nbconvert_exporter": "python",
   "pygments_lexer": "ipython3",
   "version": "3.11.9"
  }
 },
 "nbformat": 4,
 "nbformat_minor": 2
}
