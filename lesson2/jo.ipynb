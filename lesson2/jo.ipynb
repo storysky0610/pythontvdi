{
 "cells": [
  {
   "cell_type": "code",
   "execution_count": 1,
   "metadata": {},
   "outputs": [
    {
     "name": "stdout",
     "output_type": "stream",
     "text": [
      "{name: John, age: 23, city: New York}\n",
      "{name: Jane, age: 29, city: Los Angeles}\n",
      "{name: Doe, age: 25, city: Chicago}\n",
      "{name: Anna, age: 22, city: Houston}\n"
     ]
    }
   ],
   "source": [
    "import csv\n",
    "\n",
    "with open( 'student.csv', encoding='utf-8') as file1:\n",
    "    \n",
    "    reader = csv.reader(file1)\n",
    "    l1 = []\n",
    "    for i in reader:\n",
    "        l1.append(i)\n",
    "    l2 = []\n",
    "    for i in range(1,len(l1)):\n",
    "        if int(l1[i][1]) > 25:\n",
    "            l2.append(l1[i])\n",
    "        print('{' , end='')\n",
    "        for j in range(len(l1[0])):\n",
    "            print(l1[0][j]+':',end=' ')\n",
    "            print(l1[i][j] , end='')\n",
    "            if j <2:\n",
    "                print(',',end=' ')\n",
    "        print('}')\n",
    "\n",
    "\n",
    "with open('ageover25.csv', 'w',encoding='utf-8') as file:\n",
    "    for i in l2:\n",
    "        for j in i:\n",
    "            file.write(j)\n",
    "            file.write(',')\n",
    "        file.write('\\n')    "
   ]
  }
 ],
 "metadata": {
  "kernelspec": {
   "display_name": "tvdi",
   "language": "python",
   "name": "python3"
  },
  "language_info": {
   "codemirror_mode": {
    "name": "ipython",
    "version": 3
   },
   "file_extension": ".py",
   "mimetype": "text/x-python",
   "name": "python",
   "nbconvert_exporter": "python",
   "pygments_lexer": "ipython3",
   "version": "3.11.10"
  }
 },
 "nbformat": 4,
 "nbformat_minor": 2
}
