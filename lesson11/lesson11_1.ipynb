{
 "cells": [
  {
   "cell_type": "code",
   "execution_count": 5,
   "metadata": {},
   "outputs": [
    {
     "data": {
      "text/plain": [
       "'相加後是8'"
      ]
     },
     "execution_count": 5,
     "metadata": {},
     "output_type": "execute_result"
    }
   ],
   "source": [
    "## python decorator\n",
    "## Function 可以有資料類型\n",
    "## Function 可以當作別的Function的引述值\n",
    "\n",
    "\n",
    "from typing import Callable\n",
    "\n",
    "MyFunction = Callable[[int,int],str]\n",
    "\n",
    "def my_function(a:int,b:int)->str:\n",
    "    return f'相加後是{a+b}'\n",
    "\n",
    "def apply_funtion(func:MyFunction,x:int,y:int)->str:\n",
    "    return func(x,y)\n",
    "\n",
    "# apply_funtion(my_function,3,5)\n",
    "my_function(3,5)"
   ]
  },
  {
   "cell_type": "code",
   "execution_count": 8,
   "metadata": {},
   "outputs": [
    {
     "name": "stdout",
     "output_type": "stream",
     "text": [
      "sayhello!\n"
     ]
    }
   ],
   "source": [
    "def greet():\n",
    "    print('sayhello!')\n",
    "\n",
    "say_hollo = greet\n",
    "say_hollo()"
   ]
  },
  {
   "cell_type": "code",
   "execution_count": 10,
   "metadata": {},
   "outputs": [],
   "source": [
    "def outter_function():\n",
    "    print('這是outtewrFunction')\n",
    "    def inner_function():\n",
    "        print(\"這是innerFunction\")\n",
    "\n",
    "    return inner_function"
   ]
  },
  {
   "cell_type": "code",
   "execution_count": 12,
   "metadata": {},
   "outputs": [
    {
     "name": "stdout",
     "output_type": "stream",
     "text": [
      "這是outtewrFunction\n"
     ]
    }
   ],
   "source": [
    "my_func = outter_function()"
   ]
  },
  {
   "cell_type": "code",
   "execution_count": 13,
   "metadata": {},
   "outputs": [
    {
     "name": "stdout",
     "output_type": "stream",
     "text": [
      "這是innerFunction\n"
     ]
    }
   ],
   "source": [
    "my_func()"
   ]
  },
  {
   "cell_type": "code",
   "execution_count": 16,
   "metadata": {},
   "outputs": [
    {
     "name": "stdout",
     "output_type": "stream",
     "text": [
      "前面增加功能\n",
      "hollo!!!\n",
      "後面增加的功能\n"
     ]
    }
   ],
   "source": [
    "def say_hollo():\n",
    "    print('hollo!!!')\n",
    "\n",
    "#建立一個func,這個func會擴充say_hello()的功能\n",
    "\n",
    "def decorator_function(original_function):\n",
    "    def wrapper_function():\n",
    "        print('前面增加功能')\n",
    "        original_function()\n",
    "        print('後面增加的功能')\n",
    "    \n",
    "    return wrapper_function\n",
    "my_func = decorator_function(say_hollo)\n",
    "my_func()"
   ]
  },
  {
   "cell_type": "code",
   "execution_count": null,
   "metadata": {},
   "outputs": [
    {
     "name": "stdout",
     "output_type": "stream",
     "text": [
      "前面增加功能\n",
      "hello\n",
      "後面增加的功能\n"
     ]
    }
   ],
   "source": [
    "def say_hollo():\n",
    "    print('hollo!!!')\n",
    "\n",
    "#建立一個func,這個func會擴充say_hello()的功能\n",
    "\n",
    "def decorator_function(original_function):\n",
    "    def wrapper_function():\n",
    "        print('前面增加功能')\n",
    "        original_function()\n",
    "        print('後面增加的功能')\n",
    "    \n",
    "    return wrapper_function\n",
    "\n",
    "@decorator_function\n",
    "def abc():\n",
    "    print(\"hello\")\n",
    "\n",
    "abc()"
   ]
  },
  {
   "cell_type": "code",
   "execution_count": 35,
   "metadata": {},
   "outputs": [
    {
     "name": "stdout",
     "output_type": "stream",
     "text": [
      "function執行完畢!\n",
      "slow_function花費多少時間2.0031\n"
     ]
    }
   ],
   "source": [
    "import time\n",
    "def timer_decorator(func):\n",
    "    def wapper():\n",
    "        start_time = time.time()\n",
    "        func()\n",
    "        end_time = time.time()\n",
    "        print(f'{func.__name__}花費多少時間{end_time-start_time:.4f}')\n",
    "    return wapper\n",
    "\n",
    "@timer_decorator\n",
    "def slow_function():\n",
    "    time.sleep(2)\n",
    "    print('function執行完畢!')\n",
    "\n",
    "slow_function()"
   ]
  }
 ],
 "metadata": {
  "kernelspec": {
   "display_name": "tvdi",
   "language": "python",
   "name": "python3"
  },
  "language_info": {
   "codemirror_mode": {
    "name": "ipython",
    "version": 3
   },
   "file_extension": ".py",
   "mimetype": "text/x-python",
   "name": "python",
   "nbconvert_exporter": "python",
   "pygments_lexer": "ipython3",
   "version": "3.11.10"
  }
 },
 "nbformat": 4,
 "nbformat_minor": 2
}
