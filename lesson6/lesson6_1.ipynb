{
 "cells": [
  {
   "cell_type": "markdown",
   "metadata": {},
   "source": [
    "#CSV檔案 \n",
    "#表格資料\n",
    "#純文字\n",
    "\n",
    "JSON檔案\n"
   ]
  },
  {
   "cell_type": "markdown",
   "metadata": {},
   "source": [
    "打開json查看自己需要資料的位置跟標籤"
   ]
  },
  {
   "cell_type": "code",
   "execution_count": 1,
   "metadata": {},
   "outputs": [
    {
     "data": {
      "text/plain": [
       "requests.models.Response"
      ]
     },
     "execution_count": 1,
     "metadata": {},
     "output_type": "execute_result"
    }
   ],
   "source": [
    "import requests\n",
    "url = 'https://data.moenv.gov.tw/api/v2/aqx_p_432?api_key=e8dd42e6-9b8b-43f8-991e-b3dee723a52d&limit=1000&sort=ImportDate%20desc&format=JSON'\n",
    "response = requests.get(url)\n",
    "type(response)"
   ]
  },
  {
   "cell_type": "markdown",
   "metadata": {},
   "source": [
    "檢查資料結構"
   ]
  },
  {
   "cell_type": "code",
   "execution_count": 5,
   "metadata": {},
   "outputs": [
    {
     "data": {
      "text/plain": [
       "dict"
      ]
     },
     "execution_count": 5,
     "metadata": {},
     "output_type": "execute_result"
    }
   ],
   "source": [
    "data = response.json()\n",
    "type(data)"
   ]
  },
  {
   "cell_type": "markdown",
   "metadata": {},
   "source": [
    "檢查資料結構"
   ]
  },
  {
   "cell_type": "code",
   "execution_count": 7,
   "metadata": {},
   "outputs": [
    {
     "data": {
      "text/plain": [
       "list"
      ]
     },
     "execution_count": 7,
     "metadata": {},
     "output_type": "execute_result"
    }
   ],
   "source": [
    "type(data['records'])"
   ]
  },
  {
   "cell_type": "markdown",
   "metadata": {},
   "source": [
    "用for迴圈將資料顯示"
   ]
  },
  {
   "cell_type": "code",
   "execution_count": 16,
   "metadata": {},
   "outputs": [
    {
     "data": {
      "text/plain": [
       "['潮州',\n",
       " '忠明',\n",
       " '萬華',\n",
       " '南投',\n",
       " '林園',\n",
       " '安南',\n",
       " '臺南（麻豆）',\n",
       " '大園',\n",
       " '新竹',\n",
       " '屏東',\n",
       " '彰化（員林）',\n",
       " '平鎮',\n",
       " '仁武',\n",
       " '花蓮',\n",
       " '關山',\n",
       " '富貴角',\n",
       " '宜蘭（頭城）',\n",
       " '橋頭',\n",
       " '豐原',\n",
       " '高雄（湖內）',\n",
       " '恆春',\n",
       " '頭份',\n",
       " '左營',\n",
       " '新港',\n",
       " '大寮',\n",
       " '西屯',\n",
       " '前金',\n",
       " '線西',\n",
       " '屏東（琉球）',\n",
       " '麥寮',\n",
       " '汐止',\n",
       " '臺南',\n",
       " '新莊',\n",
       " '士林',\n",
       " '古亭',\n",
       " '崙背',\n",
       " '板橋',\n",
       " '松山',\n",
       " '三義',\n",
       " '鳳山',\n",
       " '土城',\n",
       " '馬祖',\n",
       " '竹山',\n",
       " '大里',\n",
       " '中山',\n",
       " '臺東',\n",
       " '三重',\n",
       " '觀音',\n",
       " '大同',\n",
       " '菜寮',\n",
       " '中壢',\n",
       " '彰化',\n",
       " '斗六',\n",
       " '湖口',\n",
       " '永和',\n",
       " '二林',\n",
       " '基隆',\n",
       " '苗栗',\n",
       " '新北(樹林)',\n",
       " '萬里',\n",
       " '淡水',\n",
       " '龍潭',\n",
       " '宜蘭',\n",
       " '新營',\n",
       " '陽明',\n",
       " '埔里',\n",
       " '新店',\n",
       " '馬公',\n",
       " '林口',\n",
       " '竹東',\n",
       " '嘉義',\n",
       " '前鎮',\n",
       " '善化',\n",
       " '沙鹿',\n",
       " '朴子',\n",
       " '小港',\n",
       " '冬山',\n",
       " '復興',\n",
       " '屏東(枋山)',\n",
       " '桃園',\n",
       " '臺西',\n",
       " '美濃',\n",
       " '大城',\n",
       " '楠梓',\n",
       " '金門']"
      ]
     },
     "execution_count": 16,
     "metadata": {},
     "output_type": "execute_result"
    },
    {
     "ename": "",
     "evalue": "",
     "output_type": "error",
     "traceback": [
      "\u001b[1;31m在目前儲存格或上一個儲存格中執行程式碼時，Kernel 已損毀。\n",
      "\u001b[1;31m請檢閱儲存格中的程式碼，找出失敗的可能原因。\n",
      "\u001b[1;31m如需詳細資訊，請按一下<a href='https://aka.ms/vscodeJupyterKernelCrash'>這裡</a>。\n",
      "\u001b[1;31m如需詳細資料，請檢視 Jupyter <a href='command:jupyter.viewOutput'>記錄</a>。"
     ]
    }
   ],
   "source": [
    "sitenames = set()\n",
    "for item in data['records']:\n",
    "    sitenames.add(item['sitename'])\n",
    "sitenames = list(sitenames)\n",
    "sitenames"
   ]
  }
 ],
 "metadata": {
  "kernelspec": {
   "display_name": "tvdi",
   "language": "python",
   "name": "python3"
  },
  "language_info": {
   "codemirror_mode": {
    "name": "ipython",
    "version": 3
   },
   "file_extension": ".py",
   "mimetype": "text/x-python",
   "name": "python",
   "nbconvert_exporter": "python",
   "pygments_lexer": "ipython3",
   "version": "3.11.10"
  }
 },
 "nbformat": 4,
 "nbformat_minor": 2
}
