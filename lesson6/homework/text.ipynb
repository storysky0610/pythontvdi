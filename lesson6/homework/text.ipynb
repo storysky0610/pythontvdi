{
 "cells": [
  {
   "cell_type": "code",
   "execution_count": null,
   "metadata": {},
   "outputs": [],
   "source": [
    "import requests\n",
    "url = 'https://data.moenv.gov.tw/api/v2/aqx_p_488?api_key=e8dd42e6-9b8b-43f8-991e-b3dee723a52d&limit=1000&sort=ImportDate%20desc&format=JSON'\n",
    "response = requests.get(url)\n",
    "type(response)\n",
    "data = response.json()\n",
    "type(data)\n",
    "sitenames = []\n",
    "for items in data['records']:\n",
    "    sitenames.append([items['sitename'],items['datacreationdate'],items['county'],items['aqi'],items['pm2.5'],items['status'],items['latitude'],items['longitude']])\n",
    "sitenames = list(sitenames)\n",
    "print(sitenames)"
   ]
  },
  {
   "cell_type": "code",
   "execution_count": 13,
   "metadata": {},
   "outputs": [],
   "source": [
    "sql = '''\n",
    "CREATE TABLE IF NOT EXISTS records (\n",
    "\tid INTEGER NOT NULL PRIMARY KEY AUTOINCREMENT,\n",
    "\tsitename TEXT NOT NULL,\n",
    "\tcounty TEXT,\n",
    "\taqi INTEGER,\n",
    "\tstatus TEXT,\n",
    "\tpm25 NUMERIC,\n",
    "\tdate TEXT,\n",
    "\tlat NUMERIC,\n",
    "\tlon NUMERIC\n",
    ");\n",
    "'''\n",
    "\n",
    "import sqlite3\n",
    "\n",
    "# Connect to SQLite database (or create it if it doesn't exist)\n",
    "conn = sqlite3.connect(\"AQI.db\")\n",
    "\n",
    "# Create a cursor object\n",
    "cursor = conn.cursor()\n",
    "\n",
    "# Create a table\n",
    "cursor.execute(sql)\n",
    "\n",
    "# Commit changes and close the connection\n",
    "conn.commit()\n",
    "cursor.close()\n",
    "conn.close()"
   ]
  },
  {
   "cell_type": "code",
   "execution_count": 14,
   "metadata": {},
   "outputs": [],
   "source": [
    "insertSQL = '''\n",
    "INSERT INTO records(sitename,county,aqi,status,pm25,date,lat,lon)\n",
    "VALUES ('屏東(枋山)','屏東縣',17,'良好',6.2,'2024-10-28 09:00',22.260899,120.651472)\n",
    "'''\n",
    "conn = sqlite3.connect(\"AQI.db\")\n",
    "\n",
    "# Create a cursor object\n",
    "cursor = conn.cursor()\n",
    "\n",
    "# Create a table\n",
    "cursor.execute(insertSQL)\n",
    "\n",
    "# Commit changes and close the connection\n",
    "conn.commit()\n",
    "cursor.close()\n",
    "conn.close()"
   ]
  },
  {
   "cell_type": "code",
   "execution_count": 19,
   "metadata": {},
   "outputs": [],
   "source": [
    "import sqlite3\n",
    "import requests\n",
    "\n",
    "conn = sqlite3.connect(\"AQI.db\")\n",
    "cursor = conn.cursor()\n",
    "create_table_sql = '''\n",
    "CREATE TABLE IF NOT EXISTS records (\n",
    "    id INTEGER NOT NULL PRIMARY KEY AUTOINCREMENT,\n",
    "    sitename TEXT NOT NULL,\n",
    "    county TEXT,\n",
    "    aqi INTEGER,\n",
    "    status TEXT,\n",
    "    pm25 NUMERIC,\n",
    "    date TEXT,\n",
    "    lat NUMERIC,\n",
    "    lon NUMERIC,\n",
    "    UNIQUE(sitename, date) \n",
    ");\n",
    "'''\n",
    "cursor.execute(create_table_sql)\n",
    "url = 'https://data.moenv.gov.tw/api/v2/aqx_p_488?api_key=e8dd42e6-9b8b-43f8-991e-b3dee723a52d&limit=1000&sort=ImportDate%20desc&format=JSON'\n",
    "response = requests.get(url)\n",
    "data = response.json()\n",
    "sitenames = []\n",
    "\n",
    "for items in data['records']:\n",
    "    sitenames.append((\n",
    "        items['sitename'],\n",
    "        items['county'],\n",
    "        items['aqi'],\n",
    "        items['status'],                      \n",
    "        items['pm2.5'],\n",
    "        items['datacreationdate'],            \n",
    "        items['latitude'],\n",
    "        items['longitude']\n",
    "    ))\n",
    "\n",
    "insertSQL = '''\n",
    "INSERT INTO records (sitename, county, aqi, status, pm25, date, lat, lon)\n",
    "VALUES (?, ?, ?, ?, ?, ?, ?, ?)\n",
    "'''\n",
    "cursor.executemany(insertSQL, sitenames)\n",
    "\n",
    "conn.commit()\n",
    "cursor.close()\n",
    "conn.close()\n"
   ]
  },
  {
   "cell_type": "markdown",
   "metadata": {},
   "source": [
    "資料庫資料清除"
   ]
  },
  {
   "cell_type": "code",
   "execution_count": 18,
   "metadata": {},
   "outputs": [],
   "source": [
    "import sqlite3\n",
    "\n",
    "# 連接到數據庫\n",
    "conn = sqlite3.connect(\"AQI.db\")\n",
    "cursor = conn.cursor()\n",
    "\n",
    "# 清除所有資料\n",
    "delete_sql = 'DELETE FROM records;'\n",
    "cursor.execute(delete_sql)\n",
    "\n",
    "# 提交更改並關閉連接\n",
    "conn.commit()\n",
    "cursor.close()\n",
    "conn.close()\n"
   ]
  }
 ],
 "metadata": {
  "kernelspec": {
   "display_name": ".venv",
   "language": "python",
   "name": "python3"
  },
  "language_info": {
   "codemirror_mode": {
    "name": "ipython",
    "version": 3
   },
   "file_extension": ".py",
   "mimetype": "text/x-python",
   "name": "python",
   "nbconvert_exporter": "python",
   "pygments_lexer": "ipython3",
   "version": "3.11.9"
  }
 },
 "nbformat": 4,
 "nbformat_minor": 2
}
